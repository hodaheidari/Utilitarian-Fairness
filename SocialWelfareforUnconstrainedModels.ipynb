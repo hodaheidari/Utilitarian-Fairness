{
 "cells": [
  {
   "cell_type": "markdown",
   "metadata": {},
   "source": [
    "## Here we run several unconstrained classifiers on the COMPAS dataset and look at the avg social welfare of their predictions"
   ]
  },
  {
   "cell_type": "markdown",
   "metadata": {},
   "source": [
    "Import necessary dependencies.\n",
    "Note that the modules \"load_compas_data_modified\", \"utils\" and \"funcs_disp_mist_modified\" are adopted from \"Fairness Beyond Disparate Treatment & Disparate Impact: Learning Classification without Disparate Mistreatment\" by Zafar et. al."
   ]
  },
  {
   "cell_type": "code",
   "execution_count": 23,
   "metadata": {},
   "outputs": [],
   "source": [
    "import numpy as np\n",
    "import pandas as pd\n",
    "from load_compas_data_modified  import *\n",
    "import funcs_disp_mist_modified as fdm\n",
    "import matplotlib.pyplot as plt\n",
    "import matplotlib.lines as mlines\n",
    "import utils_modified as ut\n",
    "import sklearn as skl\n",
    "from sklearn import linear_model\n",
    "from sklearn import svm\n",
    "from sklearn import neural_network\n",
    "import operator"
   ]
  },
  {
   "cell_type": "markdown",
   "metadata": {},
   "source": [
    "### Defining a utility function"
   ]
  },
  {
   "cell_type": "code",
   "execution_count": 2,
   "metadata": {},
   "outputs": [],
   "source": [
    "def eval_util(y_pred, y_actual, alpha):\n",
    "    n = y_actual.shape[0]\n",
    "    s = sum(np.power((np.subtract(y_pred,y_actual)+10),alpha))\n",
    "    return s/n "
   ]
  },
  {
   "cell_type": "markdown",
   "metadata": {},
   "source": [
    "### Defining functions to compute violations w.r.t. individual Fairness constraints"
   ]
  },
  {
   "cell_type": "markdown",
   "metadata": {},
   "source": [
    "For the generalized entropy measure of Speicher et al a constant (they call is alpha) is needed, we use 2 and therefore call the measure GE2"
   ]
  },
  {
   "cell_type": "code",
   "execution_count": 3,
   "metadata": {},
   "outputs": [],
   "source": [
    "# x1 and x2 are feature vectors, we use euclidian distance\n",
    "def distance(x1, x2):\n",
    "    return np.linalg.norm(x1-x2)\n",
    "\n",
    "def avg_Dwork_violation(y_pred, X_data):\n",
    "    # go trough all pairs of predictions and see if constraints are violated\n",
    "    violation_sum = 0\n",
    "    n = y_pred.shape[0]\n",
    "    assert(X_data.shape[0] == n)\n",
    "    for i in range(n):\n",
    "        for j in range(i+1,n):\n",
    "            violation_sum += np.maximum(0, np.absolute(y_pred[i] - y_pred[j]) - distance(X_data[i,:],X_data[j,:]))\n",
    "    return 2*violation_sum/(n*(n-1))\n",
    "    \n",
    "# y_pred and y_actual are vectors of predictions\n",
    "# return value is a scalar\n",
    "def ge2(y_pred, y_actual):\n",
    "    benefit = (np.subtract(y_pred,y_actual)+1)\n",
    "    mu = np.average(benefit)\n",
    "    return 0.5*np.average(np.power(benefit/mu,2)) - 0.5"
   ]
  },
  {
   "cell_type": "markdown",
   "metadata": {},
   "source": [
    "## Importing the COMPAS dataset"
   ]
  },
  {
   "cell_type": "markdown",
   "metadata": {},
   "source": [
    "Here we import the COMPAS dataset. It is preprocessed the same way as in the ProPublica study (refer to https://github.com/propublica/compas-analysis)"
   ]
  },
  {
   "cell_type": "code",
   "execution_count": 4,
   "metadata": {},
   "outputs": [
    {
     "name": "stdout",
     "output_type": "stream",
     "text": [
      "Looking for file 'compas-scores-two-years.csv' in the current directory...\n",
      "File found in current directory..\n",
      "\n",
      "Number of people recidivating within two years\n",
      "-1    2795\n",
      " 1    2483\n",
      "dtype: int64\n",
      "\n",
      "\n",
      "Features we will be using for classification are: ['intercept', 'age_cat_25 - 45', 'age_cat_Greater than 45', 'age_cat_Less than 25', 'race', 'sex', 'priors_count', 'c_charge_degree'] \n",
      "\n"
     ]
    }
   ],
   "source": [
    "#data_type = 1\n",
    "X, y, x_control = load_compas_data()"
   ]
  },
  {
   "cell_type": "markdown",
   "metadata": {},
   "source": [
    "We will test logistic regression, a linear SVM, an SVM with rbf kernel and a MLP\n",
    "All models are taken from the sklearn library and run with default parameters"
   ]
  },
  {
   "cell_type": "code",
   "execution_count": 27,
   "metadata": {},
   "outputs": [
    {
     "name": "stdout",
     "output_type": "stream",
     "text": [
      "#############cross validation iteration 0 #########################\n",
      "None\n",
      "train fold size: 0.9\n",
      "#############cross validation iteration 1 #########################\n",
      "None\n",
      "train fold size: 0.9\n",
      "#############cross validation iteration 2 #########################\n",
      "None\n",
      "train fold size: 0.9\n",
      "#############cross validation iteration 3 #########################\n",
      "None\n",
      "train fold size: 0.9\n",
      "#############cross validation iteration 4 #########################\n",
      "None\n",
      "train fold size: 0.9\n",
      "#############cross validation iteration 5 #########################\n",
      "None\n",
      "train fold size: 0.9\n",
      "#############cross validation iteration 6 #########################\n",
      "None\n",
      "train fold size: 0.9\n",
      "#############cross validation iteration 7 #########################\n",
      "None\n",
      "train fold size: 0.9\n",
      "#############cross validation iteration 8 #########################\n",
      "None\n",
      "train fold size: 0.9\n",
      "#############cross validation iteration 9 #########################\n",
      "None\n",
      "train fold size: 0.9\n",
      "dwork:\n",
      "{'logreg': 0.10136854044471907, 'linsvm': 0.08601535012480858, 'rbfsvm': 0.10776133049427587, 'mlp': 0.11228341857365531}\n",
      "ge2:\n",
      "{'logreg': 0.8348220094879621, 'linsvm': 0.8389596414904904, 'rbfsvm': 0.7796633558663368, 'mlp': 0.7468180531873168}\n",
      "social welfare\n",
      "{'logreg': 9.899999999999999, 'linsvm': 9.916287878787879, 'rbfsvm': 9.93560606060606, 'mlp': 9.95}\n",
      "accuracy:\n",
      "{'logreg': 0.6617424242424242, 'linsvm': 0.6486742424242424, 'rbfsvm': 0.6606060606060606, 'mlp': 0.6659090909090909}\n"
     ]
    }
   ],
   "source": [
    "# fairness measures to track\n",
    "dwork_dict = {'logreg': 0.0, 'linsvm': 0.0, 'rbfsvm': 0.0,'mlp': 0.0}\n",
    "ge_dict = {'logreg': 0.0, 'linsvm': 0.0, 'rbfsvm': 0.0,'mlp': 0.0}\n",
    "utility_dict = {'logreg': 0.0, 'linsvm': 0.0, 'rbfsvm': 0.0,'mlp': 0.0}\n",
    "accuracy_dict = {'logreg': 0.0, 'linsvm': 0.0, 'rbfsvm': 0.0,'mlp': 0.0}\n",
    "\n",
    "cross_val_iter = 10\n",
    "alpha = 1\n",
    "\n",
    "for i in range(0,cross_val_iter):\n",
    "    print(print(\"#############cross validation iteration \" + str(i) + \" #########################\"))\n",
    "    \"\"\"permute the date randomly\"\"\"\n",
    "    perm = list(range(0,X.shape[0]))\n",
    "    shuffle(perm)\n",
    "    X = X[perm]\n",
    "    y = y[perm]\n",
    "    #for k in list(x_control.keys()):\n",
    "    for k in x_control.keys():\n",
    "        x_control[k] = x_control[k][perm]\n",
    "\n",
    "    \"\"\" Split the data into train and test \"\"\"\n",
    "    train_fold_size = 1 - 1/cross_val_iter\n",
    "    x_train, y_train, x_control_train, x_test, y_test, x_control_test = ut.split_into_train_test(X, y, x_control, train_fold_size)\n",
    "    print(\"train fold size: \" + str(train_fold_size))\n",
    "    num_points, num_features = x_train.shape\n",
    "    \n",
    "    # logistic regression\n",
    "    logreg = linear_model.LogisticRegression()\n",
    "    logreg.fit(x_train,y_train)\n",
    "    y_logreg_pred = logreg.predict(x_test)\n",
    "    dwork_dict['logreg'] += avg_Dwork_violation(y_logreg_pred,x_test)\n",
    "    ge_dict['logreg'] += ge2(y_logreg_pred, y_test)\n",
    "    utility_dict['logreg'] += eval_util(y_logreg_pred, y_test, alpha)\n",
    "    accuracy_dict['logreg'] += logreg.score(x_test,y_test)\n",
    "\n",
    "    #linear svm\n",
    "    linsvm = svm.SVC(kernel='linear')\n",
    "    linsvm.fit(x_train,y_train)\n",
    "    y_linsvm_pred = linsvm.predict(x_test)\n",
    "    dwork_dict['linsvm'] += avg_Dwork_violation(y_linsvm_pred,x_test)\n",
    "    ge_dict['linsvm'] += ge2(y_linsvm_pred, y_test)\n",
    "    utility_dict['linsvm'] += eval_util(y_linsvm_pred, y_test, alpha)\n",
    "    accuracy_dict['linsvm'] += linsvm.score(x_test,y_test)\n",
    "    \n",
    "    #rbf svm\n",
    "    rbfsvm = svm.SVC(kernel='rbf')\n",
    "    rbfsvm.fit(x_train,y_train)\n",
    "    y_rbfsvm_pred = rbfsvm.predict(x_test)\n",
    "    dwork_dict['rbfsvm'] += avg_Dwork_violation(y_rbfsvm_pred,x_test)\n",
    "    ge_dict['rbfsvm'] += ge2(y_rbfsvm_pred, y_test)\n",
    "    utility_dict['rbfsvm'] += eval_util(y_rbfsvm_pred, y_test, alpha)\n",
    "    accuracy_dict['rbfsvm'] += rbfsvm.score(x_test,y_test)\n",
    "    \n",
    "    #mlp\n",
    "    mlp = neural_network.MLPClassifier()\n",
    "    mlp.fit(x_train,y_train)\n",
    "    y_mlp_pred = mlp.predict(x_test)\n",
    "    dwork_dict['mlp'] += avg_Dwork_violation(y_mlp_pred,x_test)\n",
    "    ge_dict['mlp'] += ge2(y_mlp_pred, y_test)\n",
    "    utility_dict['mlp'] += eval_util(y_mlp_pred, y_test, alpha)\n",
    "    accuracy_dict['mlp'] += mlp.score(x_test,y_test)\n",
    "    \n",
    "# notice that you have to divide every dict value by cross_val_iter to get the real value\n",
    "dwork_dict = {k: v / cross_val_iter for k, v in dwork_dict.items()}\n",
    "ge_dict = {k: v / cross_val_iter for k, v in ge_dict.items()}\n",
    "utility_dict = {k: v / cross_val_iter for k, v in utility_dict.items()}\n",
    "accuracy_dict = {k: v / cross_val_iter for k, v in accuracy_dict.items()}\n",
    "\n",
    "print(\"dwork:\")\n",
    "print(dwork_dict)\n",
    "print(\"ge2:\")\n",
    "print(ge_dict)\n",
    "print(\"social welfare\")\n",
    "print(utility_dict)\n",
    "print(\"accuracy:\")\n",
    "print(accuracy_dict)"
   ]
  },
  {
   "cell_type": "markdown",
   "metadata": {},
   "source": [
    "save the data generated"
   ]
  },
  {
   "cell_type": "code",
   "execution_count": 28,
   "metadata": {},
   "outputs": [],
   "source": [
    "accuracy_saved = accuracy_dict\n",
    "dwork_saved = dwork_dict\n",
    "ge_saved = ge_dict\n",
    "utility_saved = utility_dict"
   ]
  },
  {
   "cell_type": "markdown",
   "metadata": {},
   "source": [
    "### create sorted bar graphs of the models"
   ]
  },
  {
   "cell_type": "markdown",
   "metadata": {},
   "source": [
    "First we sort the dictionaries"
   ]
  },
  {
   "cell_type": "code",
   "execution_count": 32,
   "metadata": {},
   "outputs": [
    {
     "name": "stdout",
     "output_type": "stream",
     "text": [
      "{'logreg': 0.6617424242424242, 'linsvm': 0.6486742424242424, 'rbfsvm': 0.6606060606060606, 'mlp': 0.6659090909090909}\n",
      "{'logreg': 0.10136854044471907, 'linsvm': 0.08601535012480858, 'rbfsvm': 0.10776133049427587, 'mlp': 0.11228341857365531}\n",
      "{'logreg': 0.8348220094879621, 'linsvm': 0.8389596414904904, 'rbfsvm': 0.7796633558663368, 'mlp': 0.7468180531873168}\n",
      "{'logreg': 9.899999999999999, 'linsvm': 9.916287878787879, 'rbfsvm': 9.93560606060606, 'mlp': 9.95}\n",
      "{'mlp': 0.6659090909090909, 'logreg': 0.6617424242424242, 'rbfsvm': 0.6606060606060606, 'linsvm': 0.6486742424242424}\n",
      "{'linsvm': 0.08601535012480858, 'logreg': 0.10136854044471907, 'rbfsvm': 0.10776133049427587, 'mlp': 0.11228341857365531}\n",
      "{'mlp': 0.7468180531873168, 'rbfsvm': 0.7796633558663368, 'logreg': 0.8348220094879621, 'linsvm': 0.8389596414904904}\n",
      "{'mlp': 9.95, 'rbfsvm': 9.93560606060606, 'linsvm': 9.916287878787879, 'logreg': 9.899999999999999}\n"
     ]
    }
   ],
   "source": [
    "sorted_accuracy = dict(sorted(accuracy_saved.items(), key=operator.itemgetter(1), reverse=True))\n",
    "sorted_dwork = dict(sorted(dwork_saved.items(), key=operator.itemgetter(1)))\n",
    "sorted_ge = dict(sorted(ge_saved.items(), key=operator.itemgetter(1)))\n",
    "sorted_utility = dict(sorted(utility_saved.items(), key=operator.itemgetter(1), reverse=True))"
   ]
  },
  {
   "cell_type": "code",
   "execution_count": 36,
   "metadata": {},
   "outputs": [
    {
     "data": {
      "image/png": "[encoded data removed]",
      "text/plain": [
       "<matplotlib.figure.Figure at 0x1130aef60>"
      ]
     },
     "metadata": {},
     "output_type": "display_data"
    }
   ],
   "source": [
    "index = np.arange(4)\n",
    "mlp, log, rbf, lin = plt.bar(index,sorted_accuracy.values())\n",
    "log.set_facecolor('r')\n",
    "lin.set_facecolor('navy')\n",
    "rbf.set_facecolor('b')\n",
    "mlp.set_facecolor('g')\n",
    "\n",
    "plt.ylabel(\"Accuracy\")\n",
    "plt.xticks(index, sorted_accuracy.keys())\n",
    "plt.show()"
   ]
  },
  {
   "cell_type": "code",
   "execution_count": 38,
   "metadata": {},
   "outputs": [
    {
     "data": {
      "image/png": "[encoded data removed]",
      "text/plain": [
       "<matplotlib.figure.Figure at 0x11296a6a0>"
      ]
     },
     "metadata": {},
     "output_type": "display_data"
    }
   ],
   "source": [
    "index = np.arange(4)\n",
    "lin, log, rbf, mlp = plt.bar(index,sorted_dwork.values())\n",
    "log.set_facecolor('r')\n",
    "lin.set_facecolor('navy')\n",
    "rbf.set_facecolor('b')\n",
    "mlp.set_facecolor('g')\n",
    "\n",
    "plt.ylabel(\"Avg Dwork et. al. violations\")\n",
    "plt.xticks(index, sorted_dwork.keys())\n",
    "plt.show()"
   ]
  },
  {
   "cell_type": "code",
   "execution_count": 39,
   "metadata": {},
   "outputs": [
    {
     "data": {
      "image/png": "[encoded data removed]",
      "text/plain": [
       "<matplotlib.figure.Figure at 0x112e9cb70>"
      ]
     },
     "metadata": {},
     "output_type": "display_data"
    }
   ],
   "source": [
    "index = np.arange(4)\n",
    "mlp, rbf, log, lin = plt.bar(index,sorted_ge.values())\n",
    "log.set_facecolor('r')\n",
    "lin.set_facecolor('navy')\n",
    "rbf.set_facecolor('b')\n",
    "mlp.set_facecolor('g')\n",
    "\n",
    "plt.ylabel(\"GE2 Unfairness\")\n",
    "plt.xticks(index, sorted_ge.keys())\n",
    "plt.show()"
   ]
  },
  {
   "cell_type": "code",
   "execution_count": 41,
   "metadata": {},
   "outputs": [
    {
     "data": {
      "image/png": "[encoded data removed]",
      "text/plain": [
       "<matplotlib.figure.Figure at 0x11293fa20>"
      ]
     },
     "metadata": {},
     "output_type": "display_data"
    }
   ],
   "source": [
    "index = np.arange(4)\n",
    "mlp, rbf, lin, log = plt.bar(index,sorted_utility.values())\n",
    "log.set_facecolor('r')\n",
    "lin.set_facecolor('navy')\n",
    "rbf.set_facecolor('b')\n",
    "mlp.set_facecolor('g')\n",
    "\n",
    "plt.ylabel(\"Social Welfare\")\n",
    "plt.xticks(index, sorted_utility.keys())\n",
    "plt.show()"
   ]
  },
  {
   "cell_type": "markdown",
   "metadata": {},
   "source": [
    "Saving the output to files"
   ]
  },
  {
   "cell_type": "code",
   "execution_count": 46,
   "metadata": {},
   "outputs": [],
   "source": [
    "np.save('Accuracy_dict.npy', accuracy_saved)\n",
    "np.save('Dwork_dict.npy', dwork_saved) \n",
    "np.save('GE_dict.npy', ge_saved) \n",
    "np.save('Utility_dict.npy', utility_saved) "
   ]
  },
  {
   "cell_type": "code",
   "execution_count": null,
   "metadata": {},
   "outputs": [],
   "source": []
  }
 ],
 "metadata": {
  "kernelspec": {
   "display_name": "Python 3",
   "language": "python",
   "name": "python3"
  },
  "language_info": {
   "codemirror_mode": {
    "name": "ipython",
    "version": 3
   },
   "file_extension": ".py",
   "mimetype": "text/x-python",
   "name": "python",
   "nbconvert_exporter": "python",
   "pygments_lexer": "ipython3",
   "version": "3.6.5"
  }
 },
 "nbformat": 4,
 "nbformat_minor": 2
}
